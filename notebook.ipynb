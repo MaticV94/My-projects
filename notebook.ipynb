{
 "cells": [
  {
   "metadata": {
    "ExecuteTime": {
     "end_time": "2025-08-31T10:25:30.832022Z",
     "start_time": "2025-08-31T10:25:28.027350Z"
    }
   },
   "cell_type": "code",
   "source": [
    "import pandas as pd\n",
    "import matplotlib.pyplot as plt"
   ],
   "id": "fbc121e30a2defb3",
   "outputs": [],
   "execution_count": 35
  },
  {
   "metadata": {
    "ExecuteTime": {
     "end_time": "2025-08-31T10:12:12.399757Z",
     "start_time": "2025-08-31T10:12:12.379067Z"
    }
   },
   "cell_type": "code",
   "source": [
    "import os\n",
    "print(\"Current working directory:\", os.getcwd())\n",
    "print(\"Files in current directory:\", os.listdir('.'))"
   ],
   "id": "6894719693687f51",
   "outputs": [
    {
     "name": "stdout",
     "output_type": "stream",
     "text": [
      "Current working directory: C:\\Users\\38631\\PyCharmMiscProject\\Python_projects\n",
      "Files in current directory: ['.git', 'data', 'notebook.ipynb']\n"
     ]
    }
   ],
   "execution_count": 10
  },
  {
   "metadata": {
    "ExecuteTime": {
     "end_time": "2025-08-31T10:14:06.753731Z",
     "start_time": "2025-08-31T10:14:06.696502Z"
    }
   },
   "cell_type": "code",
   "source": [
    "attack_df = pd.read_csv('data/UEFA_CL/attacking_data.csv')\n",
    "attempts_df = pd.read_csv('data/UEFA_CL/attempts_data.csv')\n",
    "defending_df = pd.read_csv('data/UEFA_CL/defending_data.csv')\n",
    "disciplinary_df = pd.read_csv('data/UEFA_CL/disciplinary_data.csv')\n",
    "distribution_df = pd.read_csv('data/UEFA_CL/distribution_data.csv')\n",
    "goalkeeping_df = pd.read_csv('data/UEFA_CL/goalkeeping_data.csv')\n",
    "goals_df = pd.read_csv('data/UEFA_CL/goals_data.csv')\n",
    "key_stats_data_df = pd.read_csv('data/UEFA_CL/key_stats_data.csv')\n",
    "players_df = pd.read_csv('data/UEFA_CL/players_data.csv')\n",
    "teams_df = pd.read_csv('data/UEFA_CL/teams_data.csv')"
   ],
   "id": "37a78ab5035bd565",
   "outputs": [],
   "execution_count": 27
  },
  {
   "metadata": {
    "ExecuteTime": {
     "end_time": "2025-08-31T10:13:24.280163Z",
     "start_time": "2025-08-31T10:13:24.260757Z"
    }
   },
   "cell_type": "code",
   "source": [
    "player_goals = pd.merge(players_df, goals_df, how='left', on='id_player')\n",
    "player_goals = pd.merge(player_goals, teams_df, how='left', left_on='id_team', right_on='team_id')\n",
    "columns_to_drop = ['age', 'position', 'weight(kg)', 'height(cm)', 'player_image', 'team_id', 'logo' ]\n",
    "player_goals = player_goals.drop(columns_to_drop, axis=1)\n",
    "#print(\"Columns after first merge:\", player_goals.columns.tolist())\n",
    "#print(\"Teams_df columns:\", teams_df.columns.tolist())"
   ],
   "id": "723c45992e6fc6b9",
   "outputs": [],
   "execution_count": 16
  },
  {
   "metadata": {
    "ExecuteTime": {
     "end_time": "2025-08-31T10:13:25.978118Z",
     "start_time": "2025-08-31T10:13:25.957792Z"
    }
   },
   "cell_type": "code",
   "source": [
    "key_cols = ['id_player', 'id_team', 'player_name', 'nationality', 'field_position', 'team', 'country']\n",
    "other_cols = [col for col in player_goals.columns if col not in key_cols]\n",
    "player_goals = player_goals[key_cols + other_cols]"
   ],
   "id": "ae9e847c93facb4e",
   "outputs": [],
   "execution_count": 17
  },
  {
   "metadata": {
    "ExecuteTime": {
     "end_time": "2025-08-31T10:13:28.065875Z",
     "start_time": "2025-08-31T10:13:28.007300Z"
    }
   },
   "cell_type": "code",
   "source": "player_goals",
   "id": "7251c563b1e405d8",
   "outputs": [
    {
     "data": {
      "text/plain": [
       "     id_player  id_team        player_name  nationality field_position  \\\n",
       "0    250016833    50037         Harry Kane      England        Forward   \n",
       "1    250105927    50149    Viktor Gyökeres       Sweden        Forward   \n",
       "2    250121533    50051    Vinícius Júnior       Brazil        Forward   \n",
       "3    250121294    50058  Tijjani Reijnders  Netherlands     Midfielder   \n",
       "4    250160436    50023  Maghnes Akliouche       France     Midfielder   \n",
       "..         ...      ...                ...          ...            ...   \n",
       "903  250011071    50050         Scott Bain     Scotland     Goalkeeper   \n",
       "904  250000104    50139    Carlo Pinsoglio        Italy     Goalkeeper   \n",
       "905     108501    50080  Wojciech Szczęsny       Poland     Goalkeeper   \n",
       "906     103827    50124  César Azpilicueta        Spain       Defender   \n",
       "907     101585    75797       Vito Mannone        Italy     Goalkeeper   \n",
       "\n",
       "                           team   country  goals  inside_area  outside_area  \\\n",
       "0             FC Bayern München   Germany    5.0          5.0           0.0   \n",
       "1    Sporting Clube de Portugal  Portugal    5.0          5.0           0.0   \n",
       "2              Real Madrid C.F.     Spain    4.0          3.0           1.0   \n",
       "3                      AC Milan     Italy    3.0          3.0           0.0   \n",
       "4                     AS Monaco    France    2.0          1.0           1.0   \n",
       "..                          ...       ...    ...          ...           ...   \n",
       "903                   Celtic FC  Scotland    NaN          NaN           NaN   \n",
       "904                    Juventus     Italy    NaN          NaN           NaN   \n",
       "905                FC Barcelona     Spain    NaN          NaN           NaN   \n",
       "906          Atlético de Madrid     Spain    NaN          NaN           NaN   \n",
       "907                  LOSC Lille    France    NaN          NaN           NaN   \n",
       "\n",
       "     right_foot  left_foot  head  other  penalties_scored  \n",
       "0           5.0        0.0   0.0    0.0               3.0  \n",
       "1           5.0        0.0   0.0    0.0               2.0  \n",
       "2           2.0        2.0   0.0    0.0               1.0  \n",
       "3           2.0        1.0   0.0    0.0               0.0  \n",
       "4           0.0        2.0   0.0    0.0               0.0  \n",
       "..          ...        ...   ...    ...               ...  \n",
       "903         NaN        NaN   NaN    NaN               NaN  \n",
       "904         NaN        NaN   NaN    NaN               NaN  \n",
       "905         NaN        NaN   NaN    NaN               NaN  \n",
       "906         NaN        NaN   NaN    NaN               NaN  \n",
       "907         NaN        NaN   NaN    NaN               NaN  \n",
       "\n",
       "[908 rows x 15 columns]"
      ],
      "text/html": [
       "<div>\n",
       "<style scoped>\n",
       "    .dataframe tbody tr th:only-of-type {\n",
       "        vertical-align: middle;\n",
       "    }\n",
       "\n",
       "    .dataframe tbody tr th {\n",
       "        vertical-align: top;\n",
       "    }\n",
       "\n",
       "    .dataframe thead th {\n",
       "        text-align: right;\n",
       "    }\n",
       "</style>\n",
       "<table border=\"1\" class=\"dataframe\">\n",
       "  <thead>\n",
       "    <tr style=\"text-align: right;\">\n",
       "      <th></th>\n",
       "      <th>id_player</th>\n",
       "      <th>id_team</th>\n",
       "      <th>player_name</th>\n",
       "      <th>nationality</th>\n",
       "      <th>field_position</th>\n",
       "      <th>team</th>\n",
       "      <th>country</th>\n",
       "      <th>goals</th>\n",
       "      <th>inside_area</th>\n",
       "      <th>outside_area</th>\n",
       "      <th>right_foot</th>\n",
       "      <th>left_foot</th>\n",
       "      <th>head</th>\n",
       "      <th>other</th>\n",
       "      <th>penalties_scored</th>\n",
       "    </tr>\n",
       "  </thead>\n",
       "  <tbody>\n",
       "    <tr>\n",
       "      <th>0</th>\n",
       "      <td>250016833</td>\n",
       "      <td>50037</td>\n",
       "      <td>Harry Kane</td>\n",
       "      <td>England</td>\n",
       "      <td>Forward</td>\n",
       "      <td>FC Bayern München</td>\n",
       "      <td>Germany</td>\n",
       "      <td>5.0</td>\n",
       "      <td>5.0</td>\n",
       "      <td>0.0</td>\n",
       "      <td>5.0</td>\n",
       "      <td>0.0</td>\n",
       "      <td>0.0</td>\n",
       "      <td>0.0</td>\n",
       "      <td>3.0</td>\n",
       "    </tr>\n",
       "    <tr>\n",
       "      <th>1</th>\n",
       "      <td>250105927</td>\n",
       "      <td>50149</td>\n",
       "      <td>Viktor Gyökeres</td>\n",
       "      <td>Sweden</td>\n",
       "      <td>Forward</td>\n",
       "      <td>Sporting Clube de Portugal</td>\n",
       "      <td>Portugal</td>\n",
       "      <td>5.0</td>\n",
       "      <td>5.0</td>\n",
       "      <td>0.0</td>\n",
       "      <td>5.0</td>\n",
       "      <td>0.0</td>\n",
       "      <td>0.0</td>\n",
       "      <td>0.0</td>\n",
       "      <td>2.0</td>\n",
       "    </tr>\n",
       "    <tr>\n",
       "      <th>2</th>\n",
       "      <td>250121533</td>\n",
       "      <td>50051</td>\n",
       "      <td>Vinícius Júnior</td>\n",
       "      <td>Brazil</td>\n",
       "      <td>Forward</td>\n",
       "      <td>Real Madrid C.F.</td>\n",
       "      <td>Spain</td>\n",
       "      <td>4.0</td>\n",
       "      <td>3.0</td>\n",
       "      <td>1.0</td>\n",
       "      <td>2.0</td>\n",
       "      <td>2.0</td>\n",
       "      <td>0.0</td>\n",
       "      <td>0.0</td>\n",
       "      <td>1.0</td>\n",
       "    </tr>\n",
       "    <tr>\n",
       "      <th>3</th>\n",
       "      <td>250121294</td>\n",
       "      <td>50058</td>\n",
       "      <td>Tijjani Reijnders</td>\n",
       "      <td>Netherlands</td>\n",
       "      <td>Midfielder</td>\n",
       "      <td>AC Milan</td>\n",
       "      <td>Italy</td>\n",
       "      <td>3.0</td>\n",
       "      <td>3.0</td>\n",
       "      <td>0.0</td>\n",
       "      <td>2.0</td>\n",
       "      <td>1.0</td>\n",
       "      <td>0.0</td>\n",
       "      <td>0.0</td>\n",
       "      <td>0.0</td>\n",
       "    </tr>\n",
       "    <tr>\n",
       "      <th>4</th>\n",
       "      <td>250160436</td>\n",
       "      <td>50023</td>\n",
       "      <td>Maghnes Akliouche</td>\n",
       "      <td>France</td>\n",
       "      <td>Midfielder</td>\n",
       "      <td>AS Monaco</td>\n",
       "      <td>France</td>\n",
       "      <td>2.0</td>\n",
       "      <td>1.0</td>\n",
       "      <td>1.0</td>\n",
       "      <td>0.0</td>\n",
       "      <td>2.0</td>\n",
       "      <td>0.0</td>\n",
       "      <td>0.0</td>\n",
       "      <td>0.0</td>\n",
       "    </tr>\n",
       "    <tr>\n",
       "      <th>...</th>\n",
       "      <td>...</td>\n",
       "      <td>...</td>\n",
       "      <td>...</td>\n",
       "      <td>...</td>\n",
       "      <td>...</td>\n",
       "      <td>...</td>\n",
       "      <td>...</td>\n",
       "      <td>...</td>\n",
       "      <td>...</td>\n",
       "      <td>...</td>\n",
       "      <td>...</td>\n",
       "      <td>...</td>\n",
       "      <td>...</td>\n",
       "      <td>...</td>\n",
       "      <td>...</td>\n",
       "    </tr>\n",
       "    <tr>\n",
       "      <th>903</th>\n",
       "      <td>250011071</td>\n",
       "      <td>50050</td>\n",
       "      <td>Scott Bain</td>\n",
       "      <td>Scotland</td>\n",
       "      <td>Goalkeeper</td>\n",
       "      <td>Celtic FC</td>\n",
       "      <td>Scotland</td>\n",
       "      <td>NaN</td>\n",
       "      <td>NaN</td>\n",
       "      <td>NaN</td>\n",
       "      <td>NaN</td>\n",
       "      <td>NaN</td>\n",
       "      <td>NaN</td>\n",
       "      <td>NaN</td>\n",
       "      <td>NaN</td>\n",
       "    </tr>\n",
       "    <tr>\n",
       "      <th>904</th>\n",
       "      <td>250000104</td>\n",
       "      <td>50139</td>\n",
       "      <td>Carlo Pinsoglio</td>\n",
       "      <td>Italy</td>\n",
       "      <td>Goalkeeper</td>\n",
       "      <td>Juventus</td>\n",
       "      <td>Italy</td>\n",
       "      <td>NaN</td>\n",
       "      <td>NaN</td>\n",
       "      <td>NaN</td>\n",
       "      <td>NaN</td>\n",
       "      <td>NaN</td>\n",
       "      <td>NaN</td>\n",
       "      <td>NaN</td>\n",
       "      <td>NaN</td>\n",
       "    </tr>\n",
       "    <tr>\n",
       "      <th>905</th>\n",
       "      <td>108501</td>\n",
       "      <td>50080</td>\n",
       "      <td>Wojciech Szczęsny</td>\n",
       "      <td>Poland</td>\n",
       "      <td>Goalkeeper</td>\n",
       "      <td>FC Barcelona</td>\n",
       "      <td>Spain</td>\n",
       "      <td>NaN</td>\n",
       "      <td>NaN</td>\n",
       "      <td>NaN</td>\n",
       "      <td>NaN</td>\n",
       "      <td>NaN</td>\n",
       "      <td>NaN</td>\n",
       "      <td>NaN</td>\n",
       "      <td>NaN</td>\n",
       "    </tr>\n",
       "    <tr>\n",
       "      <th>906</th>\n",
       "      <td>103827</td>\n",
       "      <td>50124</td>\n",
       "      <td>César Azpilicueta</td>\n",
       "      <td>Spain</td>\n",
       "      <td>Defender</td>\n",
       "      <td>Atlético de Madrid</td>\n",
       "      <td>Spain</td>\n",
       "      <td>NaN</td>\n",
       "      <td>NaN</td>\n",
       "      <td>NaN</td>\n",
       "      <td>NaN</td>\n",
       "      <td>NaN</td>\n",
       "      <td>NaN</td>\n",
       "      <td>NaN</td>\n",
       "      <td>NaN</td>\n",
       "    </tr>\n",
       "    <tr>\n",
       "      <th>907</th>\n",
       "      <td>101585</td>\n",
       "      <td>75797</td>\n",
       "      <td>Vito Mannone</td>\n",
       "      <td>Italy</td>\n",
       "      <td>Goalkeeper</td>\n",
       "      <td>LOSC Lille</td>\n",
       "      <td>France</td>\n",
       "      <td>NaN</td>\n",
       "      <td>NaN</td>\n",
       "      <td>NaN</td>\n",
       "      <td>NaN</td>\n",
       "      <td>NaN</td>\n",
       "      <td>NaN</td>\n",
       "      <td>NaN</td>\n",
       "      <td>NaN</td>\n",
       "    </tr>\n",
       "  </tbody>\n",
       "</table>\n",
       "<p>908 rows × 15 columns</p>\n",
       "</div>"
      ]
     },
     "execution_count": 18,
     "metadata": {},
     "output_type": "execute_result"
    }
   ],
   "execution_count": 18
  },
  {
   "metadata": {
    "ExecuteTime": {
     "end_time": "2025-08-31T10:13:53.025611Z",
     "start_time": "2025-08-31T10:13:53.006117Z"
    }
   },
   "cell_type": "code",
   "source": [
    "na_values = player_goals.isna().sum()\n",
    "na_values"
   ],
   "id": "e4fc76fc1f66405c",
   "outputs": [
    {
     "data": {
      "text/plain": [
       "id_player           0\n",
       "id_team             0\n",
       "player_name         0\n",
       "nationality         0\n",
       "field_position      0\n",
       "team                0\n",
       "country             0\n",
       "goals               0\n",
       "inside_area         0\n",
       "outside_area        0\n",
       "right_foot          0\n",
       "left_foot           0\n",
       "head                0\n",
       "other               0\n",
       "penalties_scored    0\n",
       "dtype: int64"
      ]
     },
     "execution_count": 26,
     "metadata": {},
     "output_type": "execute_result"
    }
   ],
   "execution_count": 26
  },
  {
   "metadata": {
    "ExecuteTime": {
     "end_time": "2025-08-31T10:13:33.929614Z",
     "start_time": "2025-08-31T10:13:33.910317Z"
    }
   },
   "cell_type": "code",
   "source": [
    "goal_columns = ['goals','inside_area', 'outside_area', 'right_foot', 'left_foot', 'head', 'other', 'penalties_scored']\n",
    "player_goals[goal_columns] = player_goals[goal_columns].fillna(0)\n",
    "print(player_goals.isna().sum())"
   ],
   "id": "920d838f0e623a32",
   "outputs": [
    {
     "name": "stdout",
     "output_type": "stream",
     "text": [
      "id_player           0\n",
      "id_team             0\n",
      "player_name         0\n",
      "nationality         0\n",
      "field_position      0\n",
      "team                0\n",
      "country             0\n",
      "goals               0\n",
      "inside_area         0\n",
      "outside_area        0\n",
      "right_foot          0\n",
      "left_foot           0\n",
      "head                0\n",
      "other               0\n",
      "penalties_scored    0\n",
      "dtype: int64\n"
     ]
    }
   ],
   "execution_count": 20
  },
  {
   "metadata": {
    "ExecuteTime": {
     "end_time": "2025-08-31T10:13:36.605326Z",
     "start_time": "2025-08-31T10:13:36.586091Z"
    }
   },
   "cell_type": "code",
   "source": [
    "players_duplicated = player_goals.duplicated().sum()\n",
    "players_duplicated"
   ],
   "id": "8ec95592fdb6f566",
   "outputs": [
    {
     "data": {
      "text/plain": [
       "np.int64(0)"
      ]
     },
     "execution_count": 21,
     "metadata": {},
     "output_type": "execute_result"
    }
   ],
   "execution_count": 21
  },
  {
   "metadata": {
    "ExecuteTime": {
     "end_time": "2025-08-31T10:13:37.908025Z",
     "start_time": "2025-08-31T10:13:37.846716Z"
    }
   },
   "cell_type": "code",
   "source": "player_goals.describe()",
   "id": "28a416c5b9c2c695",
   "outputs": [
    {
     "data": {
      "text/plain": [
       "          id_player       id_team       goals  inside_area  outside_area  \\\n",
       "count  9.080000e+02  9.080000e+02  908.000000   908.000000    908.000000   \n",
       "mean   2.414979e+08  2.695953e+05    0.226872     0.189427      0.037445   \n",
       "std    4.522600e+07  7.156461e+05    0.650048     0.584076      0.201228   \n",
       "min    6.917800e+04  7.889000e+03    0.000000     0.000000      0.000000   \n",
       "25%    2.500805e+08  5.005100e+04    0.000000     0.000000      0.000000   \n",
       "50%    2.501215e+08  5.013800e+04    0.000000     0.000000      0.000000   \n",
       "75%    2.501668e+08  5.275800e+04    0.000000     0.000000      0.000000   \n",
       "max    2.502042e+08  2.603790e+06    5.000000     5.000000      2.000000   \n",
       "\n",
       "       right_foot   left_foot        head       other  penalties_scored  \n",
       "count  908.000000  908.000000  908.000000  908.000000        908.000000  \n",
       "mean     0.118943    0.075991    0.026432    0.004405          0.024229  \n",
       "std      0.456672    0.341468    0.173700    0.066262          0.192090  \n",
       "min      0.000000    0.000000    0.000000    0.000000          0.000000  \n",
       "25%      0.000000    0.000000    0.000000    0.000000          0.000000  \n",
       "50%      0.000000    0.000000    0.000000    0.000000          0.000000  \n",
       "75%      0.000000    0.000000    0.000000    0.000000          0.000000  \n",
       "max      5.000000    4.000000    2.000000    1.000000          3.000000  "
      ],
      "text/html": [
       "<div>\n",
       "<style scoped>\n",
       "    .dataframe tbody tr th:only-of-type {\n",
       "        vertical-align: middle;\n",
       "    }\n",
       "\n",
       "    .dataframe tbody tr th {\n",
       "        vertical-align: top;\n",
       "    }\n",
       "\n",
       "    .dataframe thead th {\n",
       "        text-align: right;\n",
       "    }\n",
       "</style>\n",
       "<table border=\"1\" class=\"dataframe\">\n",
       "  <thead>\n",
       "    <tr style=\"text-align: right;\">\n",
       "      <th></th>\n",
       "      <th>id_player</th>\n",
       "      <th>id_team</th>\n",
       "      <th>goals</th>\n",
       "      <th>inside_area</th>\n",
       "      <th>outside_area</th>\n",
       "      <th>right_foot</th>\n",
       "      <th>left_foot</th>\n",
       "      <th>head</th>\n",
       "      <th>other</th>\n",
       "      <th>penalties_scored</th>\n",
       "    </tr>\n",
       "  </thead>\n",
       "  <tbody>\n",
       "    <tr>\n",
       "      <th>count</th>\n",
       "      <td>9.080000e+02</td>\n",
       "      <td>9.080000e+02</td>\n",
       "      <td>908.000000</td>\n",
       "      <td>908.000000</td>\n",
       "      <td>908.000000</td>\n",
       "      <td>908.000000</td>\n",
       "      <td>908.000000</td>\n",
       "      <td>908.000000</td>\n",
       "      <td>908.000000</td>\n",
       "      <td>908.000000</td>\n",
       "    </tr>\n",
       "    <tr>\n",
       "      <th>mean</th>\n",
       "      <td>2.414979e+08</td>\n",
       "      <td>2.695953e+05</td>\n",
       "      <td>0.226872</td>\n",
       "      <td>0.189427</td>\n",
       "      <td>0.037445</td>\n",
       "      <td>0.118943</td>\n",
       "      <td>0.075991</td>\n",
       "      <td>0.026432</td>\n",
       "      <td>0.004405</td>\n",
       "      <td>0.024229</td>\n",
       "    </tr>\n",
       "    <tr>\n",
       "      <th>std</th>\n",
       "      <td>4.522600e+07</td>\n",
       "      <td>7.156461e+05</td>\n",
       "      <td>0.650048</td>\n",
       "      <td>0.584076</td>\n",
       "      <td>0.201228</td>\n",
       "      <td>0.456672</td>\n",
       "      <td>0.341468</td>\n",
       "      <td>0.173700</td>\n",
       "      <td>0.066262</td>\n",
       "      <td>0.192090</td>\n",
       "    </tr>\n",
       "    <tr>\n",
       "      <th>min</th>\n",
       "      <td>6.917800e+04</td>\n",
       "      <td>7.889000e+03</td>\n",
       "      <td>0.000000</td>\n",
       "      <td>0.000000</td>\n",
       "      <td>0.000000</td>\n",
       "      <td>0.000000</td>\n",
       "      <td>0.000000</td>\n",
       "      <td>0.000000</td>\n",
       "      <td>0.000000</td>\n",
       "      <td>0.000000</td>\n",
       "    </tr>\n",
       "    <tr>\n",
       "      <th>25%</th>\n",
       "      <td>2.500805e+08</td>\n",
       "      <td>5.005100e+04</td>\n",
       "      <td>0.000000</td>\n",
       "      <td>0.000000</td>\n",
       "      <td>0.000000</td>\n",
       "      <td>0.000000</td>\n",
       "      <td>0.000000</td>\n",
       "      <td>0.000000</td>\n",
       "      <td>0.000000</td>\n",
       "      <td>0.000000</td>\n",
       "    </tr>\n",
       "    <tr>\n",
       "      <th>50%</th>\n",
       "      <td>2.501215e+08</td>\n",
       "      <td>5.013800e+04</td>\n",
       "      <td>0.000000</td>\n",
       "      <td>0.000000</td>\n",
       "      <td>0.000000</td>\n",
       "      <td>0.000000</td>\n",
       "      <td>0.000000</td>\n",
       "      <td>0.000000</td>\n",
       "      <td>0.000000</td>\n",
       "      <td>0.000000</td>\n",
       "    </tr>\n",
       "    <tr>\n",
       "      <th>75%</th>\n",
       "      <td>2.501668e+08</td>\n",
       "      <td>5.275800e+04</td>\n",
       "      <td>0.000000</td>\n",
       "      <td>0.000000</td>\n",
       "      <td>0.000000</td>\n",
       "      <td>0.000000</td>\n",
       "      <td>0.000000</td>\n",
       "      <td>0.000000</td>\n",
       "      <td>0.000000</td>\n",
       "      <td>0.000000</td>\n",
       "    </tr>\n",
       "    <tr>\n",
       "      <th>max</th>\n",
       "      <td>2.502042e+08</td>\n",
       "      <td>2.603790e+06</td>\n",
       "      <td>5.000000</td>\n",
       "      <td>5.000000</td>\n",
       "      <td>2.000000</td>\n",
       "      <td>5.000000</td>\n",
       "      <td>4.000000</td>\n",
       "      <td>2.000000</td>\n",
       "      <td>1.000000</td>\n",
       "      <td>3.000000</td>\n",
       "    </tr>\n",
       "  </tbody>\n",
       "</table>\n",
       "</div>"
      ]
     },
     "execution_count": 22,
     "metadata": {},
     "output_type": "execute_result"
    }
   ],
   "execution_count": 22
  },
  {
   "metadata": {
    "ExecuteTime": {
     "end_time": "2025-08-31T10:13:40.570269Z",
     "start_time": "2025-08-31T10:13:40.555942Z"
    }
   },
   "cell_type": "code",
   "source": "player_goals.dtypes",
   "id": "e97a5053d2d55600",
   "outputs": [
    {
     "data": {
      "text/plain": [
       "id_player             int64\n",
       "id_team               int64\n",
       "player_name          object\n",
       "nationality          object\n",
       "field_position       object\n",
       "team                 object\n",
       "country              object\n",
       "goals               float64\n",
       "inside_area         float64\n",
       "outside_area        float64\n",
       "right_foot          float64\n",
       "left_foot           float64\n",
       "head                float64\n",
       "other               float64\n",
       "penalties_scored    float64\n",
       "dtype: object"
      ]
     },
     "execution_count": 23,
     "metadata": {},
     "output_type": "execute_result"
    }
   ],
   "execution_count": 23
  },
  {
   "metadata": {
    "ExecuteTime": {
     "end_time": "2025-08-31T10:13:42.402004Z",
     "start_time": "2025-08-31T10:13:42.362454Z"
    }
   },
   "cell_type": "code",
   "source": "player_goals",
   "id": "84bad59f8402a152",
   "outputs": [
    {
     "data": {
      "text/plain": [
       "     id_player  id_team        player_name  nationality field_position  \\\n",
       "0    250016833    50037         Harry Kane      England        Forward   \n",
       "1    250105927    50149    Viktor Gyökeres       Sweden        Forward   \n",
       "2    250121533    50051    Vinícius Júnior       Brazil        Forward   \n",
       "3    250121294    50058  Tijjani Reijnders  Netherlands     Midfielder   \n",
       "4    250160436    50023  Maghnes Akliouche       France     Midfielder   \n",
       "..         ...      ...                ...          ...            ...   \n",
       "903  250011071    50050         Scott Bain     Scotland     Goalkeeper   \n",
       "904  250000104    50139    Carlo Pinsoglio        Italy     Goalkeeper   \n",
       "905     108501    50080  Wojciech Szczęsny       Poland     Goalkeeper   \n",
       "906     103827    50124  César Azpilicueta        Spain       Defender   \n",
       "907     101585    75797       Vito Mannone        Italy     Goalkeeper   \n",
       "\n",
       "                           team   country  goals  inside_area  outside_area  \\\n",
       "0             FC Bayern München   Germany    5.0          5.0           0.0   \n",
       "1    Sporting Clube de Portugal  Portugal    5.0          5.0           0.0   \n",
       "2              Real Madrid C.F.     Spain    4.0          3.0           1.0   \n",
       "3                      AC Milan     Italy    3.0          3.0           0.0   \n",
       "4                     AS Monaco    France    2.0          1.0           1.0   \n",
       "..                          ...       ...    ...          ...           ...   \n",
       "903                   Celtic FC  Scotland    0.0          0.0           0.0   \n",
       "904                    Juventus     Italy    0.0          0.0           0.0   \n",
       "905                FC Barcelona     Spain    0.0          0.0           0.0   \n",
       "906          Atlético de Madrid     Spain    0.0          0.0           0.0   \n",
       "907                  LOSC Lille    France    0.0          0.0           0.0   \n",
       "\n",
       "     right_foot  left_foot  head  other  penalties_scored  \n",
       "0           5.0        0.0   0.0    0.0               3.0  \n",
       "1           5.0        0.0   0.0    0.0               2.0  \n",
       "2           2.0        2.0   0.0    0.0               1.0  \n",
       "3           2.0        1.0   0.0    0.0               0.0  \n",
       "4           0.0        2.0   0.0    0.0               0.0  \n",
       "..          ...        ...   ...    ...               ...  \n",
       "903         0.0        0.0   0.0    0.0               0.0  \n",
       "904         0.0        0.0   0.0    0.0               0.0  \n",
       "905         0.0        0.0   0.0    0.0               0.0  \n",
       "906         0.0        0.0   0.0    0.0               0.0  \n",
       "907         0.0        0.0   0.0    0.0               0.0  \n",
       "\n",
       "[908 rows x 15 columns]"
      ],
      "text/html": [
       "<div>\n",
       "<style scoped>\n",
       "    .dataframe tbody tr th:only-of-type {\n",
       "        vertical-align: middle;\n",
       "    }\n",
       "\n",
       "    .dataframe tbody tr th {\n",
       "        vertical-align: top;\n",
       "    }\n",
       "\n",
       "    .dataframe thead th {\n",
       "        text-align: right;\n",
       "    }\n",
       "</style>\n",
       "<table border=\"1\" class=\"dataframe\">\n",
       "  <thead>\n",
       "    <tr style=\"text-align: right;\">\n",
       "      <th></th>\n",
       "      <th>id_player</th>\n",
       "      <th>id_team</th>\n",
       "      <th>player_name</th>\n",
       "      <th>nationality</th>\n",
       "      <th>field_position</th>\n",
       "      <th>team</th>\n",
       "      <th>country</th>\n",
       "      <th>goals</th>\n",
       "      <th>inside_area</th>\n",
       "      <th>outside_area</th>\n",
       "      <th>right_foot</th>\n",
       "      <th>left_foot</th>\n",
       "      <th>head</th>\n",
       "      <th>other</th>\n",
       "      <th>penalties_scored</th>\n",
       "    </tr>\n",
       "  </thead>\n",
       "  <tbody>\n",
       "    <tr>\n",
       "      <th>0</th>\n",
       "      <td>250016833</td>\n",
       "      <td>50037</td>\n",
       "      <td>Harry Kane</td>\n",
       "      <td>England</td>\n",
       "      <td>Forward</td>\n",
       "      <td>FC Bayern München</td>\n",
       "      <td>Germany</td>\n",
       "      <td>5.0</td>\n",
       "      <td>5.0</td>\n",
       "      <td>0.0</td>\n",
       "      <td>5.0</td>\n",
       "      <td>0.0</td>\n",
       "      <td>0.0</td>\n",
       "      <td>0.0</td>\n",
       "      <td>3.0</td>\n",
       "    </tr>\n",
       "    <tr>\n",
       "      <th>1</th>\n",
       "      <td>250105927</td>\n",
       "      <td>50149</td>\n",
       "      <td>Viktor Gyökeres</td>\n",
       "      <td>Sweden</td>\n",
       "      <td>Forward</td>\n",
       "      <td>Sporting Clube de Portugal</td>\n",
       "      <td>Portugal</td>\n",
       "      <td>5.0</td>\n",
       "      <td>5.0</td>\n",
       "      <td>0.0</td>\n",
       "      <td>5.0</td>\n",
       "      <td>0.0</td>\n",
       "      <td>0.0</td>\n",
       "      <td>0.0</td>\n",
       "      <td>2.0</td>\n",
       "    </tr>\n",
       "    <tr>\n",
       "      <th>2</th>\n",
       "      <td>250121533</td>\n",
       "      <td>50051</td>\n",
       "      <td>Vinícius Júnior</td>\n",
       "      <td>Brazil</td>\n",
       "      <td>Forward</td>\n",
       "      <td>Real Madrid C.F.</td>\n",
       "      <td>Spain</td>\n",
       "      <td>4.0</td>\n",
       "      <td>3.0</td>\n",
       "      <td>1.0</td>\n",
       "      <td>2.0</td>\n",
       "      <td>2.0</td>\n",
       "      <td>0.0</td>\n",
       "      <td>0.0</td>\n",
       "      <td>1.0</td>\n",
       "    </tr>\n",
       "    <tr>\n",
       "      <th>3</th>\n",
       "      <td>250121294</td>\n",
       "      <td>50058</td>\n",
       "      <td>Tijjani Reijnders</td>\n",
       "      <td>Netherlands</td>\n",
       "      <td>Midfielder</td>\n",
       "      <td>AC Milan</td>\n",
       "      <td>Italy</td>\n",
       "      <td>3.0</td>\n",
       "      <td>3.0</td>\n",
       "      <td>0.0</td>\n",
       "      <td>2.0</td>\n",
       "      <td>1.0</td>\n",
       "      <td>0.0</td>\n",
       "      <td>0.0</td>\n",
       "      <td>0.0</td>\n",
       "    </tr>\n",
       "    <tr>\n",
       "      <th>4</th>\n",
       "      <td>250160436</td>\n",
       "      <td>50023</td>\n",
       "      <td>Maghnes Akliouche</td>\n",
       "      <td>France</td>\n",
       "      <td>Midfielder</td>\n",
       "      <td>AS Monaco</td>\n",
       "      <td>France</td>\n",
       "      <td>2.0</td>\n",
       "      <td>1.0</td>\n",
       "      <td>1.0</td>\n",
       "      <td>0.0</td>\n",
       "      <td>2.0</td>\n",
       "      <td>0.0</td>\n",
       "      <td>0.0</td>\n",
       "      <td>0.0</td>\n",
       "    </tr>\n",
       "    <tr>\n",
       "      <th>...</th>\n",
       "      <td>...</td>\n",
       "      <td>...</td>\n",
       "      <td>...</td>\n",
       "      <td>...</td>\n",
       "      <td>...</td>\n",
       "      <td>...</td>\n",
       "      <td>...</td>\n",
       "      <td>...</td>\n",
       "      <td>...</td>\n",
       "      <td>...</td>\n",
       "      <td>...</td>\n",
       "      <td>...</td>\n",
       "      <td>...</td>\n",
       "      <td>...</td>\n",
       "      <td>...</td>\n",
       "    </tr>\n",
       "    <tr>\n",
       "      <th>903</th>\n",
       "      <td>250011071</td>\n",
       "      <td>50050</td>\n",
       "      <td>Scott Bain</td>\n",
       "      <td>Scotland</td>\n",
       "      <td>Goalkeeper</td>\n",
       "      <td>Celtic FC</td>\n",
       "      <td>Scotland</td>\n",
       "      <td>0.0</td>\n",
       "      <td>0.0</td>\n",
       "      <td>0.0</td>\n",
       "      <td>0.0</td>\n",
       "      <td>0.0</td>\n",
       "      <td>0.0</td>\n",
       "      <td>0.0</td>\n",
       "      <td>0.0</td>\n",
       "    </tr>\n",
       "    <tr>\n",
       "      <th>904</th>\n",
       "      <td>250000104</td>\n",
       "      <td>50139</td>\n",
       "      <td>Carlo Pinsoglio</td>\n",
       "      <td>Italy</td>\n",
       "      <td>Goalkeeper</td>\n",
       "      <td>Juventus</td>\n",
       "      <td>Italy</td>\n",
       "      <td>0.0</td>\n",
       "      <td>0.0</td>\n",
       "      <td>0.0</td>\n",
       "      <td>0.0</td>\n",
       "      <td>0.0</td>\n",
       "      <td>0.0</td>\n",
       "      <td>0.0</td>\n",
       "      <td>0.0</td>\n",
       "    </tr>\n",
       "    <tr>\n",
       "      <th>905</th>\n",
       "      <td>108501</td>\n",
       "      <td>50080</td>\n",
       "      <td>Wojciech Szczęsny</td>\n",
       "      <td>Poland</td>\n",
       "      <td>Goalkeeper</td>\n",
       "      <td>FC Barcelona</td>\n",
       "      <td>Spain</td>\n",
       "      <td>0.0</td>\n",
       "      <td>0.0</td>\n",
       "      <td>0.0</td>\n",
       "      <td>0.0</td>\n",
       "      <td>0.0</td>\n",
       "      <td>0.0</td>\n",
       "      <td>0.0</td>\n",
       "      <td>0.0</td>\n",
       "    </tr>\n",
       "    <tr>\n",
       "      <th>906</th>\n",
       "      <td>103827</td>\n",
       "      <td>50124</td>\n",
       "      <td>César Azpilicueta</td>\n",
       "      <td>Spain</td>\n",
       "      <td>Defender</td>\n",
       "      <td>Atlético de Madrid</td>\n",
       "      <td>Spain</td>\n",
       "      <td>0.0</td>\n",
       "      <td>0.0</td>\n",
       "      <td>0.0</td>\n",
       "      <td>0.0</td>\n",
       "      <td>0.0</td>\n",
       "      <td>0.0</td>\n",
       "      <td>0.0</td>\n",
       "      <td>0.0</td>\n",
       "    </tr>\n",
       "    <tr>\n",
       "      <th>907</th>\n",
       "      <td>101585</td>\n",
       "      <td>75797</td>\n",
       "      <td>Vito Mannone</td>\n",
       "      <td>Italy</td>\n",
       "      <td>Goalkeeper</td>\n",
       "      <td>LOSC Lille</td>\n",
       "      <td>France</td>\n",
       "      <td>0.0</td>\n",
       "      <td>0.0</td>\n",
       "      <td>0.0</td>\n",
       "      <td>0.0</td>\n",
       "      <td>0.0</td>\n",
       "      <td>0.0</td>\n",
       "      <td>0.0</td>\n",
       "      <td>0.0</td>\n",
       "    </tr>\n",
       "  </tbody>\n",
       "</table>\n",
       "<p>908 rows × 15 columns</p>\n",
       "</div>"
      ]
     },
     "execution_count": 24,
     "metadata": {},
     "output_type": "execute_result"
    }
   ],
   "execution_count": 24
  },
  {
   "metadata": {},
   "cell_type": "markdown",
   "source": "Clubs by goals",
   "id": "dfcbc258879ea88d"
  },
  {
   "metadata": {
    "ExecuteTime": {
     "end_time": "2025-08-31T12:02:15.727020Z",
     "start_time": "2025-08-31T12:02:15.706632Z"
    }
   },
   "cell_type": "code",
   "source": [
    "top_10_club_goals = player_goals.groupby('team')['goals'].sum().sort_values(ascending=False).head(10)\n",
    "top_10_club_goals\n"
   ],
   "id": "a28f795bf10d6d87",
   "outputs": [
    {
     "data": {
      "text/plain": [
       "team\n",
       "FC Barcelona                  14.0\n",
       "Borussia Dortmund             13.0\n",
       "FC Bayern München             11.0\n",
       "Liverpool FC                  10.0\n",
       "Manchester City               10.0\n",
       "AS Monaco                     10.0\n",
       "GNK Dinamo                    10.0\n",
       "Sporting Clube de Portugal     9.0\n",
       "Celtic FC                      9.0\n",
       "Real Madrid C.F.               9.0\n",
       "Name: goals, dtype: float64"
      ]
     },
     "execution_count": 58,
     "metadata": {},
     "output_type": "execute_result"
    }
   ],
   "execution_count": 58
  },
  {
   "metadata": {},
   "cell_type": "markdown",
   "source": "Goals by club",
   "id": "6f26d0e25c5dacc8"
  },
  {
   "metadata": {
    "ExecuteTime": {
     "end_time": "2025-08-31T12:02:43.010570Z",
     "start_time": "2025-08-31T12:02:42.695073Z"
    }
   },
   "cell_type": "code",
   "source": [
    "plt.figure(figsize=(12,8))\n",
    "bars = plt.bar(top_10_club_goals.index, top_10_club_goals.values, color= 'springgreen')\n",
    "plt.title('Total number of Goals by Top 10 clubs')\n",
    "plt.xlabel('Name of the Club')\n",
    "plt.ylabel('Number of Total goals')\n",
    "plt.xticks(rotation=45)\n",
    "\n",
    "for bar in bars:\n",
    "    yval = bar.get_height()\n",
    "    plt.text(bar.get_x() + bar.get_width()/2, yval + 0.2, str(yval),\n",
    "             ha='center', va='bottom', fontweight='bold')\n",
    "\n",
    "plt.show()"
   ],
   "id": "6cdf4d73b5753d78",
   "outputs": [
    {
     "data": {
      "text/plain": [
       "<Figure size 1200x800 with 1 Axes>"
      ],
      "image/png": "[encoded data removed]"
     },
     "metadata": {},
     "output_type": "display_data"
    }
   ],
   "execution_count": 60
  },
  {
   "metadata": {},
   "cell_type": "markdown",
   "source": "Top 10 clubs by goals scored with penalties",
   "id": "9eb85a02724ba76"
  },
  {
   "metadata": {
    "ExecuteTime": {
     "end_time": "2025-08-31T14:02:10.216609Z",
     "start_time": "2025-08-31T14:02:10.150644Z"
    }
   },
   "cell_type": "code",
   "source": [
    "top_10_club_goals_penalties = player_goals.groupby('team')['penalties_scored'].sum().sort_values(ascending=False).head(10)\n",
    "top_10_club_goals_penalties"
   ],
   "id": "24c405fa174e3904",
   "outputs": [
    {
     "data": {
      "text/plain": [
       "team\n",
       "Borussia Dortmund             3.0\n",
       "FC Bayern München             3.0\n",
       "FC Internazionale Milano      2.0\n",
       "SL Benfica                    2.0\n",
       "Sporting Clube de Portugal    2.0\n",
       "LOSC Lille                    2.0\n",
       "AS Monaco                     1.0\n",
       "Juventus                      1.0\n",
       "Manchester City               1.0\n",
       "FK Crvena Zvezda              1.0\n",
       "Name: penalties_scored, dtype: float64"
      ]
     },
     "execution_count": 61,
     "metadata": {},
     "output_type": "execute_result"
    }
   ],
   "execution_count": 61
  },
  {
   "metadata": {
    "ExecuteTime": {
     "end_time": "2025-08-31T14:07:47.104731Z",
     "start_time": "2025-08-31T14:07:46.719623Z"
    }
   },
   "cell_type": "code",
   "source": [
    "plt.figure(figsize=(12,8))\n",
    "bars_h = plt.barh(top_10_club_goals_penalties.index, top_10_club_goals_penalties.values, color= 'springgreen')\n",
    "plt.title('Total number of Goals scored by penalties (Top 10 clubs)')\n",
    "plt.xlabel('Name of the Club')\n",
    "plt.ylabel('Number of Total goals scored by penalties')\n",
    "plt.xticks(rotation=45)\n",
    "plt.grid(axis='x', color='gray', linestyle='dashed')\n",
    "plt.show()"
   ],
   "id": "71d9657ac6ebf96b",
   "outputs": [
    {
     "data": {
      "text/plain": [
       "<Figure size 1200x800 with 1 Axes>"
      ],
      "image/png": "[encoded data removed]"
     },
     "metadata": {},
     "output_type": "display_data"
    }
   ],
   "execution_count": 65
  },
  {
   "metadata": {},
   "cell_type": "markdown",
   "source": "Top 15 players by goals",
   "id": "cea7aece73fe5ef2"
  },
  {
   "metadata": {
    "ExecuteTime": {
     "end_time": "2025-08-31T10:13:48.681234Z",
     "start_time": "2025-08-31T10:13:48.669984Z"
    }
   },
   "cell_type": "code",
   "source": "",
   "id": "d3bf9f2ac170c93a",
   "outputs": [],
   "execution_count": null
  },
  {
   "metadata": {},
   "cell_type": "markdown",
   "source": "Top 15 players by goals strenghts ( left, right, head,...)",
   "id": "7628ab624c41b1e0"
  },
  {
   "metadata": {},
   "cell_type": "code",
   "outputs": [],
   "execution_count": null,
   "source": "",
   "id": "de33f1adfaf43f7a"
  },
  {
   "metadata": {
    "ExecuteTime": {
     "end_time": "2025-08-31T10:13:54.066019Z",
     "start_time": "2025-08-31T10:13:54.056995Z"
    }
   },
   "cell_type": "code",
   "source": "",
   "id": "1f286195a4fdcd61",
   "outputs": [],
   "execution_count": null
  },
  {
   "metadata": {},
   "cell_type": "code",
   "outputs": [],
   "execution_count": null,
   "source": "",
   "id": "9198da368ac01b8e"
  }
 ],
 "metadata": {
  "kernelspec": {
   "display_name": "Python 3",
   "language": "python",
   "name": "python3"
  },
  "language_info": {
   "codemirror_mode": {
    "name": "ipython",
    "version": 2
   },
   "file_extension": ".py",
   "mimetype": "text/x-python",
   "name": "python",
   "nbconvert_exporter": "python",
   "pygments_lexer": "ipython2",
   "version": "2.7.6"
  }
 },
 "nbformat": 4,
 "nbformat_minor": 5
}
